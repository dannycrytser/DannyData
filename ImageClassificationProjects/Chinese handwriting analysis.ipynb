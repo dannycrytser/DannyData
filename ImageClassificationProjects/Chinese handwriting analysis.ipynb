{
 "cells": [
  {
   "cell_type": "code",
   "execution_count": 37,
   "metadata": {},
   "outputs": [],
   "source": [
    "#This first chunk just imports some modules we will be using\n",
    "import tensorflow as tf\n",
    "import matplotlib.pyplot as plt\n",
    "import matplotlib.image as mpimg\n",
    "%matplotlib inline\n",
    "import numpy as np\n",
    "import random\n",
    "import pandas as pd\n",
    "from subprocess import check_output\n",
    "##This sets addresses for the training and test datasets.\n",
    "## If you are running this on your own machine, you'll need to place the fashion-mnist_train and fashion-mnist_test\n",
    "## csv files into the same directory as this file and change the dirrectory path below.\n",
    "\n",
    "\n",
    "\n"
   ]
  },
  {
   "cell_type": "code",
   "execution_count": 38,
   "metadata": {},
   "outputs": [],
   "source": [
    "## We need to import the files into \n",
    "\n",
    "df = pd.read_csv('chinese_mnist.csv')"
   ]
  },
  {
   "cell_type": "code",
   "execution_count": 39,
   "metadata": {},
   "outputs": [
    {
     "name": "stdout",
     "output_type": "stream",
     "text": [
      "   suite_id  sample_id  code  value character\n",
      "0         1          1    10      9         九\n",
      "1         1         10    10      9         九\n",
      "2         1          2    10      9         九\n",
      "3         1          3    10      9         九\n",
      "4         1          4    10      9         九\n"
     ]
    }
   ],
   "source": [
    "print(df.head())\n"
   ]
  },
  {
   "cell_type": "markdown",
   "metadata": {},
   "source": [
    "Okay, this is just the labeling of the data -- the actual images are stored in another folder called 'Data.'\n",
    "\n",
    "The first (unlabeled) column is an id column. \n",
    "\n",
    "The second one labels the \"suite\" -- basically which person was drawing the characters. Each of the 100 volunteers created 10 samples, and each sample contains 15 characters (\"codes\"), so we should have 15000 rows. \n",
    "\n",
    "The last two columns contain the numerical value of the character (1-10, then the next 5 powers of 10) and the character itself. We will use the value column quite a bit as a label. \n",
    "\n"
   ]
  },
  {
   "cell_type": "markdown",
   "metadata": {},
   "source": [
    "There's something a little annoying about the data frame: the \"finest\" part of the counter (code) is not moving the fastest. \n"
   ]
  },
  {
   "cell_type": "code",
   "execution_count": 40,
   "metadata": {},
   "outputs": [
    {
     "name": "stdout",
     "output_type": "stream",
     "text": [
      "143\n"
     ]
    }
   ],
   "source": [
    "def reindex(suite_id, sample_id, code):\n",
    "    index = 150*(suite_id-1)+ 15*(sample_id-1) + code\n",
    "    return index-1\n",
    "    \n",
    "print(reindex(1,10,9))"
   ]
  },
  {
   "cell_type": "code",
   "execution_count": 41,
   "metadata": {},
   "outputs": [],
   "source": [
    "\n",
    "\n",
    "df['index'] = df.apply(lambda x: reindex(x.suite_id,x.sample_id,x.code),axis=1)\n"
   ]
  },
  {
   "cell_type": "code",
   "execution_count": 42,
   "metadata": {},
   "outputs": [
    {
     "name": "stdout",
     "output_type": "stream",
     "text": [
      "(15000, 6)\n"
     ]
    }
   ],
   "source": [
    "print(df.shape)"
   ]
  },
  {
   "cell_type": "code",
   "execution_count": 43,
   "metadata": {},
   "outputs": [
    {
     "name": "stdout",
     "output_type": "stream",
     "text": [
      "    suite_id  sample_id  code  value character  index\n",
      "0          1          1    10      9         九      9\n",
      "1          1         10    10      9         九    144\n",
      "2          1          2    10      9         九     24\n",
      "3          1          3    10      9         九     39\n",
      "4          1          4    10      9         九     54\n",
      "5          1          5    10      9         九     69\n",
      "6          1          6    10      9         九     84\n",
      "7          1          7    10      9         九     99\n",
      "8          1          8    10      9         九    114\n",
      "9          1          9    10      9         九    129\n",
      "10        10          1    10      9         九   1359\n",
      "11        10         10    10      9         九   1494\n",
      "12        10          2    10      9         九   1374\n",
      "13        10          3    10      9         九   1389\n",
      "14        10          4    10      9         九   1404\n",
      "15        10          5    10      9         九   1419\n",
      "16        10          6    10      9         九   1434\n",
      "17        10          7    10      9         九   1449\n",
      "18        10          8    10      9         九   1464\n",
      "19        10          9    10      9         九   1479\n"
     ]
    }
   ],
   "source": [
    "print(df.head(20))"
   ]
  },
  {
   "cell_type": "code",
   "execution_count": 44,
   "metadata": {},
   "outputs": [],
   "source": [
    "df = df.sort_values(by='index')"
   ]
  },
  {
   "cell_type": "code",
   "execution_count": 45,
   "metadata": {},
   "outputs": [
    {
     "name": "stdout",
     "output_type": "stream",
     "text": [
      "       suite_id  sample_id  code      value character  index\n",
      "6000          1          1     1          0         零      0\n",
      "7000          1          1     2          1         一      1\n",
      "8000          1          1     3          2         二      2\n",
      "9000          1          1     4          3         三      3\n",
      "10000         1          1     5          4         四      4\n",
      "11000         1          1     6          5         五      5\n",
      "12000         1          1     7          6         六      6\n",
      "13000         1          1     8          7         七      7\n",
      "14000         1          1     9          8         八      8\n",
      "0             1          1    10          9         九      9\n",
      "1000          1          1    11         10         十     10\n",
      "2000          1          1    12        100         百     11\n",
      "3000          1          1    13       1000         千     12\n",
      "4000          1          1    14      10000         万     13\n",
      "5000          1          1    15  100000000         亿     14\n",
      "6002          1          2     1          0         零     15\n",
      "7002          1          2     2          1         一     16\n",
      "8002          1          2     3          2         二     17\n",
      "9002          1          2     4          3         三     18\n",
      "10002         1          2     5          4         四     19\n"
     ]
    }
   ],
   "source": [
    "print(df.head(20))"
   ]
  },
  {
   "cell_type": "code",
   "execution_count": 46,
   "metadata": {},
   "outputs": [],
   "source": [
    "df = df.set_index('index')"
   ]
  },
  {
   "cell_type": "code",
   "execution_count": 47,
   "metadata": {},
   "outputs": [
    {
     "name": "stdout",
     "output_type": "stream",
     "text": [
      "       suite_id  sample_id  code  value character\n",
      "index                                            \n",
      "0             1          1     1      0         零\n",
      "1             1          1     2      1         一\n",
      "2             1          1     3      2         二\n",
      "3             1          1     4      3         三\n",
      "4             1          1     5      4         四\n"
     ]
    }
   ],
   "source": [
    "print(df.head())"
   ]
  },
  {
   "cell_type": "markdown",
   "metadata": {},
   "source": [
    "The important thing for us is the value of each row (we do not expect suite_id, sample_id, or code to have meaning for an image classification task, and character is redundant with value). Now we actually need the training features, and we have to get all the images wrangled into the dataframe."
   ]
  },
  {
   "cell_type": "code",
   "execution_count": 48,
   "metadata": {},
   "outputs": [],
   "source": [
    "images = []\n",
    "\n",
    "for i in range(1,101):\n",
    "    for j in range(1,11):\n",
    "        for k in range(1,16):\n",
    "            index  = reindex(i,j,k)\n",
    "            filename = '_'.join([str(i),str(j),str(k)])\n",
    "            filename = 'input_'+filename + '.jpg'\n",
    "            path = 'data/'+filename\n",
    "            img = mpimg.imread(path).flatten()\n",
    "            images += [img]\n",
    "\n",
    "\n"
   ]
  },
  {
   "cell_type": "code",
   "execution_count": 49,
   "metadata": {},
   "outputs": [],
   "source": [
    "features = np.array(images)"
   ]
  },
  {
   "cell_type": "code",
   "execution_count": 50,
   "metadata": {},
   "outputs": [
    {
     "data": {
      "text/plain": [
       "list"
      ]
     },
     "execution_count": 50,
     "metadata": {},
     "output_type": "execute_result"
    }
   ],
   "source": [
    "type(images)"
   ]
  },
  {
   "cell_type": "code",
   "execution_count": 51,
   "metadata": {},
   "outputs": [],
   "source": [
    "df['image'] = images"
   ]
  },
  {
   "cell_type": "markdown",
   "metadata": {},
   "source": [
    "This is great, now we have a properly indexed dataframe. Let's check to make sure the actual images line up with the data. We pick a random entry from the character column, and note that the image does seem to match the character stored in the character column :). "
   ]
  },
  {
   "cell_type": "code",
   "execution_count": 52,
   "metadata": {},
   "outputs": [
    {
     "name": "stdout",
     "output_type": "stream",
     "text": [
      "五\n"
     ]
    }
   ],
   "source": [
    "num = random.randrange(0,15000)\n",
    "\n",
    "print(df['character'][num])"
   ]
  },
  {
   "cell_type": "code",
   "execution_count": 53,
   "metadata": {},
   "outputs": [
    {
     "data": {
      "text/plain": [
       "<matplotlib.image.AxesImage at 0x7fb7dc539460>"
      ]
     },
     "execution_count": 53,
     "metadata": {},
     "output_type": "execute_result"
    },
    {
     "data": {
      "image/png": "[encoded data removed]",
      "text/plain": [
       "<Figure size 432x288 with 1 Axes>"
      ]
     },
     "metadata": {
      "needs_background": "light"
     },
     "output_type": "display_data"
    }
   ],
   "source": [
    "image = df['image'][num]\n",
    "reshaped_image = np.reshape(image, (64, 64))\n",
    "plt.imshow(reshaped_image)"
   ]
  },
  {
   "cell_type": "markdown",
   "metadata": {},
   "source": [
    "Now that we know the characters and the images line up correctly, we can discard those columns."
   ]
  },
  {
   "cell_type": "code",
   "execution_count": 54,
   "metadata": {},
   "outputs": [
    {
     "name": "stdout",
     "output_type": "stream",
     "text": [
      "       value                                              image\n",
      "index                                                          \n",
      "0          0  [0, 0, 0, 0, 0, 0, 0, 0, 0, 0, 0, 0, 0, 0, 0, ...\n",
      "1          1  [0, 0, 0, 0, 0, 0, 0, 0, 0, 0, 0, 0, 0, 0, 0, ...\n",
      "2          2  [0, 0, 0, 0, 0, 0, 0, 0, 0, 0, 0, 0, 0, 0, 0, ...\n",
      "3          3  [0, 0, 0, 0, 0, 0, 0, 0, 0, 0, 0, 0, 0, 0, 0, ...\n",
      "4          4  [0, 0, 0, 0, 0, 0, 0, 0, 0, 0, 0, 0, 0, 0, 0, ...\n",
      "5          5  [0, 0, 0, 0, 0, 0, 0, 0, 0, 0, 0, 0, 0, 0, 0, ...\n",
      "6          6  [0, 0, 0, 0, 0, 0, 0, 0, 0, 0, 0, 0, 0, 0, 0, ...\n",
      "7          7  [0, 0, 0, 0, 0, 0, 0, 0, 0, 0, 0, 0, 0, 0, 0, ...\n",
      "8          8  [0, 0, 0, 0, 0, 0, 0, 0, 0, 0, 0, 0, 0, 0, 0, ...\n",
      "9          9  [0, 0, 0, 0, 0, 0, 0, 0, 0, 0, 0, 0, 0, 0, 0, ...\n"
     ]
    }
   ],
   "source": [
    "df = df.drop(columns = ['suite_id','sample_id','code','character'])\n",
    "print(df.head(10))"
   ]
  },
  {
   "cell_type": "markdown",
   "metadata": {},
   "source": [
    "Now we have a pretty useful form for the datframe: an index column, a label column ('value') and a feature column ('image'). We scale the image values so that they are all between 0 and 1."
   ]
  },
  {
   "cell_type": "code",
   "execution_count": 55,
   "metadata": {},
   "outputs": [],
   "source": [
    "features = features/255"
   ]
  },
  {
   "cell_type": "markdown",
   "metadata": {},
   "source": [
    "Unfortunately, numpy arrays don't allow string inputs, and we don't want a one hundred million-vector to represent fifteen possible values. So we will code the values as 100 = 11, 1000 = 12, 10000 = 13, "
   ]
  },
  {
   "cell_type": "code",
   "execution_count": 56,
   "metadata": {},
   "outputs": [],
   "source": [
    "def number_changer(num):\n",
    "    if num > 10000:\n",
    "        num = 14\n",
    "    elif num > 1000:\n",
    "        num = 13\n",
    "    elif num > 100: \n",
    "        num = 12\n",
    "    elif num > 10:\n",
    "        num = 11\n",
    "    return num"
   ]
  },
  {
   "cell_type": "code",
   "execution_count": 57,
   "metadata": {},
   "outputs": [],
   "source": [
    "df['changed_value'] = df.apply(lambda x: number_changer(x.value), axis=1)\n",
    "\n"
   ]
  },
  {
   "cell_type": "code",
   "execution_count": 58,
   "metadata": {},
   "outputs": [],
   "source": [
    "labels = df['changed_value']\n",
    "labels = labels.to_numpy()"
   ]
  },
  {
   "cell_type": "code",
   "execution_count": 59,
   "metadata": {},
   "outputs": [
    {
     "name": "stdout",
     "output_type": "stream",
     "text": [
      "0\n",
      "1\n",
      "2\n",
      "3\n",
      "4\n",
      "5\n",
      "6\n",
      "7\n",
      "8\n",
      "9\n",
      "10\n",
      "11\n",
      "12\n",
      "13\n",
      "14\n",
      "0\n",
      "1\n",
      "2\n",
      "3\n",
      "4\n",
      "5\n",
      "6\n",
      "7\n",
      "8\n",
      "9\n",
      "10\n",
      "11\n",
      "12\n",
      "13\n",
      "14\n"
     ]
    }
   ],
   "source": [
    "for t in range(30):\n",
    "    print(labels[t])"
   ]
  },
  {
   "cell_type": "markdown",
   "metadata": {},
   "source": [
    "We peel the values off the dataframe into a numpy array, the preferred input for fitting a keras model. "
   ]
  },
  {
   "cell_type": "code",
   "execution_count": 60,
   "metadata": {},
   "outputs": [],
   "source": [
    "labels = tf.keras.utils.to_categorical(labels)"
   ]
  },
  {
   "cell_type": "code",
   "execution_count": 61,
   "metadata": {},
   "outputs": [
    {
     "data": {
      "text/plain": [
       "15"
      ]
     },
     "execution_count": 61,
     "metadata": {},
     "output_type": "execute_result"
    }
   ],
   "source": [
    "len(labels[0])"
   ]
  },
  {
   "cell_type": "markdown",
   "metadata": {},
   "source": [
    "Now we split up the data into training and test sets. We could do this \"by hand\" if we wanted to, but it's nice to let sklearns's split package do the work."
   ]
  },
  {
   "cell_type": "code",
   "execution_count": 62,
   "metadata": {},
   "outputs": [],
   "source": [
    "from sklearn.model_selection import train_test_split\n",
    "\n",
    "train_features, test_features, train_labels, test_labels = train_test_split(features, labels)\n",
    "\n"
   ]
  },
  {
   "cell_type": "markdown",
   "metadata": {},
   "source": [
    "The commands below cast the 15 possible labels in a one-to-hot encoding (example: if the label is 4, then it becomes a vector of length 15 with 0's everywhere except in the fourth position, where the value is 1). "
   ]
  },
  {
   "cell_type": "code",
   "execution_count": 63,
   "metadata": {},
   "outputs": [
    {
     "name": "stdout",
     "output_type": "stream",
     "text": [
      "Model: \"sequential_84\"\n",
      "_________________________________________________________________\n",
      "Layer (type)                 Output Shape              Param #   \n",
      "=================================================================\n",
      "dense_252 (Dense)            (None, 30)                122910    \n",
      "_________________________________________________________________\n",
      "dense_253 (Dense)            (None, 20)                620       \n",
      "_________________________________________________________________\n",
      "dense_254 (Dense)            (None, 15)                315       \n",
      "=================================================================\n",
      "Total params: 123,845\n",
      "Trainable params: 123,845\n",
      "Non-trainable params: 0\n",
      "_________________________________________________________________\n"
     ]
    }
   ],
   "source": [
    "#This specifies the size of the model for us \n",
    "#(it is still \"empty\" as it has not been compiled or trained)\n",
    "# Think of this as the blueprint for the model before it has been built\n",
    "# Each Dense layer is fully connected to the previous layer\n",
    "# The integer argument specifies the number of nodes\n",
    "# The activation is set to Rectified Linear Unit = (0.5)*(x+|x|)\n",
    "# Which is the standard activation for each node, \n",
    "# replacing the earlier standards of sigmoid and hyperbolic tangent.\n",
    "\n",
    "model  = tf.keras.Sequential()\n",
    "model.add(tf.keras.layers.Dense(30,activation=tf.nn.relu,input_shape=(4096,)))\n",
    "model.add(tf.keras.layers.Dense(20,activation=tf.nn.relu))\n",
    "model.add(tf.keras.layers.Dense(15,activation=tf.nn.softmax))\n",
    "\n",
    "## Now we \"compile\" the model -- we actually build it!\n",
    "\n",
    "# We also specify a loss function (this is what the NN will try\n",
    "# to minimize during training), an optimizer (this is the \n",
    "# method by which the NN tries to minimize the loss),\n",
    "# and a metric (this is the metric by which we judge the performance\n",
    "# of the algorithm at its assigned task -- in this case classification)\n",
    "# The difference between loss and non-accuracy is a little subtle\n",
    "# Basically the job of the loss function is to be something that is \n",
    "# easy to calculate and optimize, and hopefully by minimizing loss\n",
    "# we get something that maximizes accuracy. \n",
    "\n",
    "# Think of this as putting in the wiring and plumbing and light fixtures\n",
    "\n",
    "model.compile(loss = 'categorical_crossentropy',\n",
    "              optimizer = 'rmsprop',\n",
    "              metrics = ['accuracy'])\n",
    "\n",
    "\n",
    "#note that the metrics argument is a list, because we can ask the \n",
    "#NN to calculate as many metrics as we like. We can only specify a single\n",
    "# loss function and optimizer though (although you could probably \n",
    "#stitch together several loss functions using a max or sum). \n",
    "\n",
    "model.summary()\n",
    "\n",
    "#after we print the model summary we see that there are 23550=785*30 \n",
    "# = 28*28*30 + 30\n",
    "#parameters for the first layer. Each of the 28*28*30 corresponds to \n",
    "# one pixel being added to one of the nodes in the first layer,\n",
    "#whereas the others are weights (I think) for the 30 nodes\n",
    "\n",
    "#Likewise we get 620 = 30*20 + 20 params for the second layer, the\n",
    "# 30*20 corresponding to the connections between nodes in the first \n",
    "#and second layers and the 20 corresponding to weights on the\n",
    "#second layer nodes themselves. And the pattern continues in the third \n",
    "#layer. IF we had chosen a non-Dense layer, then not every node \n",
    "#would connect to every node in the adjacent layers, and we \n",
    "#would have fewer parameters (probably there is some reason to try this)"
   ]
  },
  {
   "cell_type": "code",
   "execution_count": 64,
   "metadata": {},
   "outputs": [],
   "source": [
    "\n",
    "## This just specifies how often we feed the training data into the network (epochs is roughly the number \n",
    "## of iterations and batch is the amount of data fed each time). \n",
    "\n",
    "epochs_no = 10\n",
    "batch_no = 40\n",
    "\n"
   ]
  },
  {
   "cell_type": "markdown",
   "metadata": {},
   "source": [
    "The command below fits the neural network to the training data. "
   ]
  },
  {
   "cell_type": "code",
   "execution_count": 65,
   "metadata": {},
   "outputs": [
    {
     "name": "stdout",
     "output_type": "stream",
     "text": [
      "Epoch 1/10\n",
      "282/282 [==============================] - 0s 986us/step - loss: 2.3229 - accuracy: 0.2540\n",
      "Epoch 2/10\n",
      "282/282 [==============================] - 0s 873us/step - loss: 1.7893 - accuracy: 0.4804\n",
      "Epoch 3/10\n",
      "282/282 [==============================] - 0s 917us/step - loss: 1.4827 - accuracy: 0.5644\n",
      "Epoch 4/10\n",
      "282/282 [==============================] - 0s 946us/step - loss: 1.2696 - accuracy: 0.6240\n",
      "Epoch 5/10\n",
      "282/282 [==============================] - 0s 961us/step - loss: 1.1145 - accuracy: 0.6654\n",
      "Epoch 6/10\n",
      "282/282 [==============================] - 0s 971us/step - loss: 0.9961 - accuracy: 0.7002\n",
      "Epoch 7/10\n",
      "282/282 [==============================] - 0s 891us/step - loss: 0.8985 - accuracy: 0.7270\n",
      "Epoch 8/10\n",
      "282/282 [==============================] - 0s 936us/step - loss: 0.8185 - accuracy: 0.7487\n",
      "Epoch 9/10\n",
      "282/282 [==============================] - 0s 888us/step - loss: 0.7464 - accuracy: 0.7688\n",
      "Epoch 10/10\n",
      "282/282 [==============================] - 0s 845us/step - loss: 0.6863 - accuracy: 0.7880\n"
     ]
    },
    {
     "data": {
      "text/plain": [
       "<tensorflow.python.keras.callbacks.History at 0x7fb79c7258e0>"
      ]
     },
     "execution_count": 65,
     "metadata": {},
     "output_type": "execute_result"
    }
   ],
   "source": [
    "model.fit(train_features,train_labels,epochs=epochs_no,batch_size=batch_no)"
   ]
  },
  {
   "cell_type": "code",
   "execution_count": 66,
   "metadata": {},
   "outputs": [],
   "source": [
    "## The test accuracy"
   ]
  },
  {
   "cell_type": "code",
   "execution_count": 67,
   "metadata": {},
   "outputs": [
    {
     "name": "stdout",
     "output_type": "stream",
     "text": [
      "118/118 [==============================] - 0s 515us/step - loss: 1.0544 - accuracy: 0.6667\n",
      "Test accuracy is  0.6666666865348816\n"
     ]
    }
   ],
   "source": [
    "test_loss,test_acc = model.evaluate(test_features,test_labels)\n",
    "print(\"Test accuracy is \",test_acc)"
   ]
  },
  {
   "cell_type": "markdown",
   "metadata": {},
   "source": [
    "We see that the test accuracy is considerably worse than the training accuracy -- this indicates severe \n",
    "overfitting. Let's try to find the \"sweet spot\" where we minimize bias+variance. For now we'll just tinker with the number of epochs.  "
   ]
  },
  {
   "cell_type": "code",
   "execution_count": 71,
   "metadata": {},
   "outputs": [
    {
     "name": "stdout",
     "output_type": "stream",
     "text": [
      "Epoch 1/7\n",
      "1125/1125 [==============================] - 1s 704us/step - loss: 2.1354 - accuracy: 0.3403\n",
      "Epoch 2/7\n",
      "1125/1125 [==============================] - 1s 657us/step - loss: 1.4958 - accuracy: 0.5544\n",
      "Epoch 3/7\n",
      "1125/1125 [==============================] - 1s 651us/step - loss: 1.1785 - accuracy: 0.6396\n",
      "Epoch 4/7\n",
      "1125/1125 [==============================] - 1s 657us/step - loss: 0.9777 - accuracy: 0.7040\n",
      "Epoch 5/7\n",
      "1125/1125 [==============================] - 1s 658us/step - loss: 0.8399 - accuracy: 0.7435\n",
      "Epoch 6/7\n",
      "1125/1125 [==============================] - 1s 660us/step - loss: 0.7368 - accuracy: 0.7728\n",
      "Epoch 7/7\n",
      "1125/1125 [==============================] - 1s 657us/step - loss: 0.6569 - accuracy: 0.7935\n",
      "118/118 [==============================] - 0s 518us/step - loss: 0.9760 - accuracy: 0.7016\n",
      "Epoch 1/8\n",
      "1125/1125 [==============================] - 1s 695us/step - loss: 2.0954 - accuracy: 0.3480\n",
      "Epoch 2/8\n",
      "1125/1125 [==============================] - 1s 716us/step - loss: 1.5058 - accuracy: 0.5441\n",
      "Epoch 3/8\n",
      "1125/1125 [==============================] - 1s 705us/step - loss: 1.2106 - accuracy: 0.6288\n",
      "Epoch 4/8\n",
      "1125/1125 [==============================] - 1s 716us/step - loss: 1.0034 - accuracy: 0.6892\n",
      "Epoch 5/8\n",
      "1125/1125 [==============================] - 1s 713us/step - loss: 0.8636 - accuracy: 0.7319\n",
      "Epoch 6/8\n",
      "1125/1125 [==============================] - 1s 680us/step - loss: 0.7524 - accuracy: 0.7623\n",
      "Epoch 7/8\n",
      "1125/1125 [==============================] - 1s 665us/step - loss: 0.6665 - accuracy: 0.7880\n",
      "Epoch 8/8\n",
      "1125/1125 [==============================] - 1s 671us/step - loss: 0.5950 - accuracy: 0.8135\n",
      "118/118 [==============================] - 0s 532us/step - loss: 0.9401 - accuracy: 0.7099\n",
      "Epoch 1/9\n",
      "1125/1125 [==============================] - 1s 679us/step - loss: 2.0882 - accuracy: 0.3512\n",
      "Epoch 2/9\n",
      "1125/1125 [==============================] - 1s 672us/step - loss: 1.3651 - accuracy: 0.5755\n",
      "Epoch 3/9\n",
      "1125/1125 [==============================] - 1s 678us/step - loss: 1.0503 - accuracy: 0.6763\n",
      "Epoch 4/9\n",
      "1125/1125 [==============================] - 1s 679us/step - loss: 0.8697 - accuracy: 0.7318\n",
      "Epoch 5/9\n",
      "1125/1125 [==============================] - 1s 681us/step - loss: 0.7542 - accuracy: 0.7638\n",
      "Epoch 6/9\n",
      "1125/1125 [==============================] - 1s 715us/step - loss: 0.6765 - accuracy: 0.7871\n",
      "Epoch 7/9\n",
      "1125/1125 [==============================] - 1s 727us/step - loss: 0.6107 - accuracy: 0.8070\n",
      "Epoch 8/9\n",
      "1125/1125 [==============================] - 1s 753us/step - loss: 0.5591 - accuracy: 0.8207\n",
      "Epoch 9/9\n",
      "1125/1125 [==============================] - 1s 731us/step - loss: 0.5130 - accuracy: 0.8373\n",
      "118/118 [==============================] - 0s 538us/step - loss: 0.9857 - accuracy: 0.7123\n",
      "Epoch 1/10\n",
      "1125/1125 [==============================] - 2s 2ms/step - loss: 2.0585 - accuracy: 0.3565\n",
      "Epoch 2/10\n",
      "1125/1125 [==============================] - 1s 980us/step - loss: 1.3669 - accuracy: 0.5798\n",
      "Epoch 3/10\n",
      "1125/1125 [==============================] - 1s 903us/step - loss: 1.0629 - accuracy: 0.6692\n",
      "Epoch 4/10\n",
      "1125/1125 [==============================] - 1s 881us/step - loss: 0.8862 - accuracy: 0.7186\n",
      "Epoch 5/10\n",
      "1125/1125 [==============================] - 1s 781us/step - loss: 0.7658 - accuracy: 0.7550\n",
      "Epoch 6/10\n",
      "1125/1125 [==============================] - 1s 784us/step - loss: 0.6775 - accuracy: 0.7828\n",
      "Epoch 7/10\n",
      "1125/1125 [==============================] - 1s 816us/step - loss: 0.6096 - accuracy: 0.8033\n",
      "Epoch 8/10\n",
      "1125/1125 [==============================] - 1s 826us/step - loss: 0.5522 - accuracy: 0.8234\n",
      "Epoch 9/10\n",
      "1125/1125 [==============================] - 1s 801us/step - loss: 0.5060 - accuracy: 0.8379\n",
      "Epoch 10/10\n",
      "1125/1125 [==============================] - 1s 767us/step - loss: 0.4669 - accuracy: 0.8479\n",
      "118/118 [==============================] - 0s 562us/step - loss: 0.9433 - accuracy: 0.7139\n",
      "Epoch 1/11\n",
      "1125/1125 [==============================] - 1s 887us/step - loss: 2.1513 - accuracy: 0.3284\n",
      "Epoch 2/11\n",
      "1125/1125 [==============================] - 1s 847us/step - loss: 1.4351 - accuracy: 0.5667\n",
      "Epoch 3/11\n",
      "1125/1125 [==============================] - 1s 706us/step - loss: 1.0731 - accuracy: 0.6736\n",
      "Epoch 4/11\n",
      "1125/1125 [==============================] - 1s 699us/step - loss: 0.8708 - accuracy: 0.7310\n",
      "Epoch 5/11\n",
      "1125/1125 [==============================] - 1s 742us/step - loss: 0.7398 - accuracy: 0.7671\n",
      "Epoch 6/11\n",
      "1125/1125 [==============================] - 1s 745us/step - loss: 0.6497 - accuracy: 0.7935\n",
      "Epoch 7/11\n",
      "1125/1125 [==============================] - 1s 737us/step - loss: 0.5835 - accuracy: 0.8149\n",
      "Epoch 8/11\n",
      "1125/1125 [==============================] - 1s 757us/step - loss: 0.5280 - accuracy: 0.8323\n",
      "Epoch 9/11\n",
      "1125/1125 [==============================] - 1s 777us/step - loss: 0.4813 - accuracy: 0.8476\n",
      "Epoch 10/11\n",
      "1125/1125 [==============================] - 1s 795us/step - loss: 0.4421 - accuracy: 0.8599\n",
      "Epoch 11/11\n",
      "1125/1125 [==============================] - 1s 840us/step - loss: 0.4115 - accuracy: 0.8712\n",
      "118/118 [==============================] - 0s 526us/step - loss: 0.9714 - accuracy: 0.7237\n",
      "Epoch 1/12\n",
      "1125/1125 [==============================] - 1s 711us/step - loss: 2.1090 - accuracy: 0.3503\n",
      "Epoch 2/12\n",
      "1125/1125 [==============================] - 1s 748us/step - loss: 1.4247 - accuracy: 0.5666\n",
      "Epoch 3/12\n",
      "1125/1125 [==============================] - 1s 705us/step - loss: 1.0833 - accuracy: 0.6685\n",
      "Epoch 4/12\n",
      "1125/1125 [==============================] - 1s 732us/step - loss: 0.8917 - accuracy: 0.7270\n",
      "Epoch 5/12\n",
      "1125/1125 [==============================] - 1s 722us/step - loss: 0.7701 - accuracy: 0.7604\n",
      "Epoch 6/12\n",
      "1125/1125 [==============================] - 1s 745us/step - loss: 0.6779 - accuracy: 0.7843\n",
      "Epoch 7/12\n",
      "1125/1125 [==============================] - 1s 735us/step - loss: 0.6109 - accuracy: 0.8072\n",
      "Epoch 8/12\n",
      "1125/1125 [==============================] - 1s 767us/step - loss: 0.5488 - accuracy: 0.8271\n",
      "Epoch 9/12\n",
      "1125/1125 [==============================] - 1s 789us/step - loss: 0.5045 - accuracy: 0.8424\n",
      "Epoch 10/12\n",
      "1125/1125 [==============================] - 1s 740us/step - loss: 0.4588 - accuracy: 0.8558\n",
      "Epoch 11/12\n",
      "1125/1125 [==============================] - 1s 707us/step - loss: 0.4215 - accuracy: 0.8693\n",
      "Epoch 12/12\n",
      "1125/1125 [==============================] - 1s 714us/step - loss: 0.3933 - accuracy: 0.8767\n",
      "118/118 [==============================] - 0s 507us/step - loss: 1.0300 - accuracy: 0.7184\n"
     ]
    }
   ],
   "source": [
    "epoch_values = [t+1 for t in range(6,12)]\n",
    "\n",
    "test_accuracy = []\n",
    "\n",
    "for num in epoch_values:\n",
    "    epochs_no = num\n",
    "    model  = tf.keras.Sequential()\n",
    "    model.add(tf.keras.layers.Dense(30,activation=tf.nn.relu,input_shape=(4096,)))\n",
    "    model.add(tf.keras.layers.Dense(20,activation=tf.nn.relu))\n",
    "    model.add(tf.keras.layers.Dense(15,activation=tf.nn.softmax))\n",
    "    model.compile(loss = 'categorical_crossentropy',\n",
    "              optimizer = 'rmsprop',\n",
    "              metrics = ['accuracy'])\n",
    "    batch_no = 10\n",
    "    model.fit(train_features,train_labels,epochs=epochs_no,batch_size=batch_no)\n",
    "    test_loss,test_acc = model.evaluate(test_features,test_labels)\n",
    "    test_accuracy.append([test_loss,test_acc])\n",
    "\n",
    "    "
   ]
  },
  {
   "cell_type": "code",
   "execution_count": 72,
   "metadata": {},
   "outputs": [
    {
     "data": {
      "text/plain": [
       "[<matplotlib.lines.Line2D at 0x7fb7e148f2e0>]"
      ]
     },
     "execution_count": 72,
     "metadata": {},
     "output_type": "execute_result"
    },
    {
     "data": {
      "image/png": "[encoded data removed]",
      "text/plain": [
       "<Figure size 432x288 with 1 Axes>"
      ]
     },
     "metadata": {
      "needs_background": "light"
     },
     "output_type": "display_data"
    }
   ],
   "source": [
    "accuracies = [y for [x,y] in test_accuracy]\n",
    "plt.plot(epoch_values,accuracies)\n"
   ]
  },
  {
   "cell_type": "markdown",
   "metadata": {},
   "source": [
    "Looks like the best performance is somewhere around 11 epochs. "
   ]
  },
  {
   "cell_type": "code",
   "execution_count": 73,
   "metadata": {},
   "outputs": [],
   "source": [
    "lst = [epoch_values, accuracies]\n",
    "\n",
    "test_df = pd.DataFrame(list(zip(epoch_values, accuracies)), \n",
    "               columns =['Epochs', 'Accuracy']) "
   ]
  }
 ],
 "metadata": {
  "kernelspec": {
   "display_name": "Python 3",
   "language": "python",
   "name": "python3"
  },
  "language_info": {
   "codemirror_mode": {
    "name": "ipython",
    "version": 3
   },
   "file_extension": ".py",
   "mimetype": "text/x-python",
   "name": "python",
   "nbconvert_exporter": "python",
   "pygments_lexer": "ipython3",
   "version": "3.8.5"
  }
 },
 "nbformat": 4,
 "nbformat_minor": 4
}
